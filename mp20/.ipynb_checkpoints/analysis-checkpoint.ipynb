{
 "cells": [
  {
   "cell_type": "code",
   "execution_count": null,
   "id": "f5f24491-9efd-404d-92db-791e410665b7",
   "metadata": {},
   "outputs": [],
   "source": [
    "import sys\n",
    "sys.path.append('../')"
   ]
  },
  {
   "cell_type": "code",
   "execution_count": null,
   "id": "bda6b2b4",
   "metadata": {},
   "outputs": [],
   "source": [
    "import numpy as np\n",
    "import matplotlib.pyplot as plt\n",
    "import torch\n",
    "import torch.nn as nn"
   ]
  },
  {
   "cell_type": "code",
   "execution_count": null,
   "id": "73da54a8-938e-4e65-a944-de9782600ffe",
   "metadata": {},
   "outputs": [],
   "source": [
    "import os"
   ]
  },
  {
   "cell_type": "code",
   "execution_count": null,
   "id": "cb050c89-b071-4759-83ae-470ea71c050a",
   "metadata": {},
   "outputs": [],
   "source": [
    "import ase\n",
    "from ase import Atoms\n",
    "from ase.optimize import FIRE\n",
    "from ase.constraints import ExpCellFilter\n",
    "from ase.io import read,write"
   ]
  },
  {
   "cell_type": "code",
   "execution_count": null,
   "id": "0e12d399",
   "metadata": {},
   "outputs": [],
   "source": [
    "from pymatgen.core.structure import Structure\n",
    "from pymatgen.core.lattice import Lattice\n",
    "from pymatgen.analysis.structure_matcher import StructureMatcher"
   ]
  },
  {
   "cell_type": "code",
   "execution_count": null,
   "id": "64bba2be",
   "metadata": {},
   "outputs": [],
   "source": [
    "# Function to convert ASE to Pymatgen Structure\n",
    "def ase_to_pymatgen(ase_atoms):\n",
    "    lattice = Lattice(ase_atoms.cell)\n",
    "    species = ase_atoms.get_chemical_symbols()\n",
    "    coords = ase_atoms.get_positions()\n",
    "    structure = Structure(lattice, species, coords, coords_are_cartesian=True)\n",
    "    return structure"
   ]
  },
  {
   "cell_type": "code",
   "execution_count": null,
   "id": "8cdc2dea",
   "metadata": {},
   "outputs": [],
   "source": [
    "# Initialize StructureMatcher with specified thresholds\n",
    "matcher = StructureMatcher(stol=0.5, angle_tol=10, ltol=0.3)"
   ]
  },
  {
   "cell_type": "code",
   "execution_count": null,
   "id": "8e5f9f64-3af2-40ad-b2e8-64769defe1b3",
   "metadata": {},
   "outputs": [],
   "source": [
    "from copy import deepcopy"
   ]
  },
  {
   "cell_type": "code",
   "execution_count": null,
   "id": "e3072221",
   "metadata": {},
   "outputs": [],
   "source": [
    "from matplotlib import cm"
   ]
  },
  {
   "cell_type": "code",
   "execution_count": null,
   "id": "91fb8191",
   "metadata": {},
   "outputs": [],
   "source": [
    "import cace\n",
    "from cace.representations.cace_representation import Cace"
   ]
  },
  {
   "cell_type": "code",
   "execution_count": null,
   "id": "40f9976f",
   "metadata": {},
   "outputs": [],
   "source": [
    "from cace.tools import to_numpy"
   ]
  },
  {
   "cell_type": "code",
   "execution_count": null,
   "id": "2e357111",
   "metadata": {},
   "outputs": [],
   "source": [
    "cutoff = 4.0\n",
    "batch_size = 10"
   ]
  },
  {
   "cell_type": "code",
   "execution_count": null,
   "id": "3813e441",
   "metadata": {},
   "outputs": [],
   "source": [
    "device = cace.tools.init_device('cpu')"
   ]
  },
  {
   "cell_type": "code",
   "execution_count": null,
   "id": "4a2620b2-ac48-4f10-b318-c0d11c7e2cf3",
   "metadata": {},
   "outputs": [],
   "source": [
    "cace_nnp = torch.load('best_model.pth', map_location=device)\n",
    "cace_nnp.to(device)\n",
    "ew = to_numpy(cace_nnp.representation.node_embedding_sender.embedding_weights)"
   ]
  },
  {
   "cell_type": "code",
   "execution_count": null,
   "id": "fa7bc20b-5e00-4111-9d36-3f669a8cdcbd",
   "metadata": {},
   "outputs": [],
   "source": [
    "trainable_params = sum(p.numel() for p in cace_nnp.parameters() if p.requires_grad)\n",
    "print(f\"Number of trainable parameters: {trainable_params}\")"
   ]
  },
  {
   "cell_type": "code",
   "execution_count": null,
   "id": "ff5e9e0b-ca98-45d7-b504-4aee2e0cd111",
   "metadata": {},
   "outputs": [],
   "source": [
    "from cace.calculators import CACECalculator"
   ]
  },
  {
   "cell_type": "code",
   "execution_count": null,
   "id": "b7eac9ae-406f-46c4-a40f-849e3bbfe531",
   "metadata": {},
   "outputs": [],
   "source": [
    "calculator = CACECalculator(model_path=cace_nnp, #'water-model-n-3-r-6-12-c4.5-mp-1.pth', \n",
    "                            device='cpu', \n",
    "                            energy_key='CACE_energy', \n",
    "                            forces_key='CACE_forces',\n",
    "                            stress_key='CACE_stress',\n",
    "                           compute_stress=True)"
   ]
  },
  {
   "cell_type": "code",
   "execution_count": null,
   "id": "4e9d59bc",
   "metadata": {},
   "outputs": [],
   "source": [
    "def compute_average_Vs(\n",
    "    atom_list: Atoms, zs\n",
    "):\n",
    "    \"\"\"\n",
    "    Function to compute the average interaction volume of each chemical element\n",
    "    returns dictionary of E0s\n",
    "    \"\"\"\n",
    "    len_xyz = len(atom_list)\n",
    "    len_zs = len(zs)\n",
    "\n",
    "    A = np.zeros((len_xyz, len_zs))\n",
    "    B = np.zeros(len_xyz)\n",
    "    for i in range(len_xyz):\n",
    "        B[i] = atom_list[i].get_volume()\n",
    "        for j, z in enumerate(zs):\n",
    "            A[i, j] = np.count_nonzero(atom_list[i].get_atomic_numbers() == z)\n",
    "    try:\n",
    "        V0s = np.linalg.lstsq(A, B, rcond=None)[0]\n",
    "        atomic_V_dict = {}\n",
    "        for i, z in enumerate(zs):\n",
    "            atomic_V_dict[z] = V0s[i]\n",
    "    except np.linalg.LinAlgError:\n",
    "        logging.warning(\n",
    "            \"Failed to compute E0s using least squares regression, using the same for all atoms\"\n",
    "        )\n",
    "        atomic_V_dict = {}\n",
    "        for i, z in enumerate(zs):\n",
    "            atomic_V_dict[z] = 0.0\n",
    "    return atomic_V_dict"
   ]
  },
  {
   "cell_type": "code",
   "execution_count": null,
   "id": "481e897c-f6de-4946-89a3-2661f173dae9",
   "metadata": {},
   "outputs": [],
   "source": [
    "import pickle\n",
    "import os\n",
    "\n",
    "if os.path.exists('avgV0.pkl'):\n",
    "    with open('avgV0.pkl', 'rb') as f:\n",
    "        atomic_number_to_volume = pickle.load(f)\n",
    "else:\n",
    "    test_xyz = ase.io.read('../more-datasets/mp_20/mp20-train.xyz', ':')\n",
    "    zs=[ i for i in range(1,95)]\n",
    "    atomic_number_to_volume = compute_average_Vs(test_xyz, zs)\n",
    "    # save the avge0 dict to a file\n",
    "    with open('avgV0.pkl', 'wb') as f:\n",
    "        pickle.dump(atomic_number_to_volume, f)"
   ]
  },
  {
   "cell_type": "raw",
   "id": "c4494745-0fc0-460d-8213-bee6e090ab4f",
   "metadata": {},
   "source": [
    "[1, 2, 3, 4, 5, 6, 7, 8, 9, 10, 11, 12, 13, 14, 15, 16, 17, 19, 20, 21, 22, 23, 24, 25, 26, 27, 28, 29, 30, 31, 32, 33, 34, 35, 36, 37, 38, 39, 40, 41, 42, 43, 44, 45, 46, 47, 48, 49, 50, 51, 52, 53, 54, 55, 56, 57, 58, 59, 60, 61, 62, 63, 64, 65, 66, 67, 68, 69, 70, 71, 72, 73, 74, 75, 76, 77, 78, 79, 80, 81, 82, 83, 89, 90, 91, 92, 93, 94]"
   ]
  },
  {
   "cell_type": "code",
   "execution_count": null,
   "id": "c5ccbcf6-79e8-42d8-a575-4e0b0701f5e1",
   "metadata": {},
   "outputs": [],
   "source": [
    "element_to_atomic_number = {'H': 1, 'He': 2, 'Li': 3, 'Be': 4, 'B': 5, 'C': 6, 'N': 7, 'O': 8, 'F': 9, 'Ne': 10, 'Na': 11, 'Mg': 12, 'Al': 13, 'Si': 14, 'P': 15, 'S': 16, 'Cl': 17, 'Ar': 18, 'K': 19, 'Ca': 20, 'Sc': 21, 'Ti': 22, 'V': 23, 'Cr': 24, 'Mn': 25, 'Fe': 26, 'Co': 27, 'Ni': 28, 'Cu': 29, 'Zn': 30, 'Ga': 31, 'Ge': 32, 'As': 33, 'Se': 34, 'Br': 35, 'Kr': 36, 'Rb': 37, 'Sr': 38, 'Y': 39, 'Zr': 40, 'Nb': 41, 'Mo': 42, 'Tc': 43, 'Ru': 44, 'Rh': 45, 'Pd': 46, 'Ag': 47, 'Cd': 48, 'In': 49, 'Sn': 50, 'Sb': 51, 'Te': 52, 'I': 53, 'Xe': 54, 'Cs': 55, 'Ba': 56, 'La': 57, 'Ce': 58, 'Pr': 59, 'Nd': 60, 'Pm': 61, 'Sm': 62, 'Eu': 63, 'Gd': 64, 'Tb': 65, 'Dy': 66, 'Ho': 67, 'Er': 68, 'Tm': 69, 'Yb': 70, 'Lu': 71, 'Hf': 72, 'Ta': 73, 'W': 74, 'Re': 75, 'Os': 76, 'Ir': 77, 'Pt': 78, 'Au': 79, 'Hg': 80, 'Tl': 81, 'Pb': 82, 'Bi': 83, 'Po': 84, 'At': 85, 'Rn': 86, 'Fr': 87, 'Ra': 88, 'Ac': 89, 'Th': 90, 'Pa': 91, 'U': 92, 'Np': 93, 'Pu': 94, 'Am': 95, 'Cm': 96, 'Bk': 97, 'Cf': 98, 'Es': 99, 'Fm': 100, 'Md': 101, 'No': 102, 'Lr': 103, 'Rf': 104, 'Db': 105, 'Sg': 106, 'Bh': 107, 'Hs': 108, 'Mt': 109, 'Ds': 110, 'Rg': 111, 'Cn': 112, 'Nh': 113, 'Fl': 114, 'Mc': 115, 'Lv': 116, 'Ts': 117, 'Og': 118}"
   ]
  },
  {
   "cell_type": "code",
   "execution_count": null,
   "id": "714181aa",
   "metadata": {},
   "outputs": [],
   "source": [
    "# Co2Sb2 Sr2O4 AlAg4 YMg3 Cr4Si4\n",
    "#Sn4Pd4 Ag6O2 Co4B2 Ba2Cd6 Bi2F8\n",
    "#KZnF3 Cr3CuO8 Bi4S4Cl4 Si2(CN2)4 Hg2S2O8\n",
    "\n",
    "# https://proceedings.neurips.cc/paper_files/paper/2023/file/38b787fc530d0b31825827e2cc306656-Paper-Conference.pdf"
   ]
  },
  {
   "cell_type": "code",
   "execution_count": null,
   "id": "0a72db58",
   "metadata": {},
   "outputs": [],
   "source": [
    "all_test_compositions = [\n",
    "    {'Co':2, 'Sb':2},\n",
    "    {'Sr':2, 'O':4},\n",
    "    {'Al': 1, 'Ag':4}, \n",
    "    {'Y': 1, 'Mg':3}, \n",
    "    {'Cr':4, 'Si':4},\n",
    "    #\n",
    "    {'Sn':4, 'Pd':4},  \n",
    "    {'Ag':6, 'O':2},  \n",
    "    {'Co':4, 'B':2},  \n",
    "    {'Ba':2, 'Cd':6},  \n",
    "    {'Bi':2, 'F':8}, \n",
    "    #\n",
    "    {'K': 1, 'Zn': 1, 'F':3 }, \n",
    "    {'Cr':3, 'Cu': 1, 'O':8 }, \n",
    "    {'Bi': 4, 'S':4, 'Cl':4 }, \n",
    "    {'Si':2, 'C':4, 'N':8 }, \n",
    "    {'Hg': 2, 'S':2, 'O': 8}, \n",
    "]"
   ]
  },
  {
   "cell_type": "code",
   "execution_count": null,
   "id": "a4114002",
   "metadata": {},
   "outputs": [],
   "source": [
    "name_2_formula = {\n",
    " 'Sr2O4':'SrO2',\n",
    " 'Co2Sb2':'CoSb',\n",
    " 'Cr4Si4':'CrSi',\n",
    " 'Sn4Pd4':'SnPd',\n",
    " 'Ag6O2':'Ag3O',\n",
    " 'Co4B2': 'Co2B',\n",
    " 'Ba2Cd6': 'BaCd3',\n",
    " 'Bi2F8': 'BiF4'\n",
    "    }"
   ]
  },
  {
   "cell_type": "code",
   "execution_count": null,
   "id": "8e1fc8df",
   "metadata": {},
   "outputs": [],
   "source": [
    "min_distance = 1.0\n",
    "names_list = []\n",
    "\n",
    "for test_composition in all_test_compositions[:]:\n",
    "    name = ''\n",
    "    for ele in test_composition:\n",
    "        name+=ele\n",
    "        if test_composition[ele] > 1: name+=str(test_composition[ele])\n",
    "    names_list.append(name)\n",
    "\n",
    "    for nforms in [1]:\n",
    "        \n",
    "        cell_volume = 0.0\n",
    "        n_atoms = 0\n",
    "        symbols = []\n",
    "        for ele in test_composition:\n",
    "            ele_num = element_to_atomic_number[ele]\n",
    "            n_atoms += test_composition[ele]\n",
    "            cell_volume += atomic_number_to_volume[ele_num] * test_composition[ele]\n",
    "            symbols += [ele] * test_composition[ele]\n",
    "        \n",
    "        symbols *= nforms\n",
    "        n_atoms *= nforms\n",
    "        cell_volume *= nforms\n",
    "        print(symbols)\n",
    "        box_size = cell_volume**(1./3.) - min_distance\n",
    "\n",
    "        for rr in range(30):\n",
    "            positions = []\n",
    "\n",
    "            while len(positions) < n_atoms:\n",
    "                new_pos = np.random.rand(3) * np.array([ box_size, box_size, box_size ])\n",
    "                if all(np.linalg.norm(new_pos - p) >= min_distance for p in positions):\n",
    "                    positions.append(new_pos)\n",
    "\n",
    "            # Create ASE Atoms object\n",
    "            atoms = Atoms(symbols=symbols, \n",
    "                        positions=positions,\n",
    "                        cell=[box_size + min_distance, box_size + min_distance, box_size + min_distance], \n",
    "                        pbc=True)\n",
    "            old_cell = atoms.get_cell()\n",
    "            old_v = atoms.get_volume()\n",
    "            new_cell = old_cell + (np.random.rand(3,3) - 0.5) * old_cell * 0.5\n",
    "            new_v = np.linalg.det(new_cell)\n",
    "            new_cell *= (old_v/new_v)**(1./3.)\n",
    "\n",
    "            # Scale the positions to maintain the relative coordinates\n",
    "            scaled_positions = atoms.get_scaled_positions()\n",
    "            atoms.set_cell(new_cell, scale_atoms=True)\n",
    "            atoms.set_scaled_positions(scaled_positions)\n",
    "        \n",
    "\n",
    "            atoms.set_calculator(calculator)\n",
    "            #print(atoms)\n",
    "\n",
    "            atoms_c = ExpCellFilter(atoms, constant_volume=True)\n",
    "\n",
    "            # Perform geometry optimization\n",
    "            opt = FIRE(atoms_c, logfile=None)\n",
    "\n",
    "            run = opt.run(fmax=0.05, steps=100)  # Adjust fmax for convergence criteria\n",
    "            \n",
    "            if run:\n",
    "                atoms_c = ExpCellFilter(atoms, constant_volume=False)\n",
    "\n",
    "                # Perform geometry optimization\n",
    "                opt = FIRE(atoms_c, logfile=None)\n",
    "\n",
    "                run = opt.run(fmax=0.01, steps=2000)  # Adjust fmax for convergence criteria\n",
    "\n",
    "                if run:\n",
    "                    print(rr)\n",
    "                    write(name+'.xyz', atoms, append=True)"
   ]
  },
  {
   "cell_type": "code",
   "execution_count": null,
   "id": "341151b7",
   "metadata": {},
   "outputs": [],
   "source": [
    "import pandas as pd\n",
    "from pymatgen.io.cif import CifParser\n",
    "import io\n",
    "\n",
    "# Load CSV file\n",
    "csv_file = '../mp_20/test.csv'\n",
    "df = pd.read_csv(csv_file)"
   ]
  },
  {
   "cell_type": "code",
   "execution_count": null,
   "id": "f72039a3",
   "metadata": {},
   "outputs": [],
   "source": [
    "collect_struct = {}\n",
    "for name in names_list:\n",
    "    collect_struct[name] = []\n",
    "    if name in name_2_formula:\n",
    "        formula_now = name_2_formula[name]\n",
    "    else:\n",
    "        formula_now = name\n",
    "\n",
    "    condition = df[\"pretty_formula\"] == formula_now\n",
    "    df[condition]\n",
    "    \n",
    "    for cif_data in df[condition].cif:\n",
    "        cif_file = io.StringIO(cif_data)\n",
    "        parser = CifParser(cif_file)\n",
    "        mp_structure = parser.get_structures()[0]\n",
    "        collect_struct[name].append(mp_structure)"
   ]
  },
  {
   "cell_type": "code",
   "execution_count": null,
   "id": "496bb8f3",
   "metadata": {},
   "outputs": [],
   "source": [
    "match_list = []\n",
    "for name in names_list:\n",
    "    for mp_structure in collect_struct[name]:\n",
    "        for i, at in enumerate(read(name+'.xyz',':')):\n",
    "            # Load or create your local structure\n",
    "            # Example: load from a CIF file\n",
    "            local_structure = ase_to_pymatgen(at)\n",
    "            is_same = matcher.fit(local_structure, mp_structure)\n",
    "            #print(f\"Are the structures identical? {is_same}\")\n",
    "            if is_same:\n",
    "                print(name, i)\n",
    "                match_list.append(name)"
   ]
  }
 ],
 "metadata": {
  "kernelspec": {
   "display_name": "Python 3 (ipykernel)",
   "language": "python",
   "name": "python3"
  },
  "language_info": {
   "codemirror_mode": {
    "name": "ipython",
    "version": 3
   },
   "file_extension": ".py",
   "mimetype": "text/x-python",
   "name": "python",
   "nbconvert_exporter": "python",
   "pygments_lexer": "ipython3",
   "version": "3.8.16"
  }
 },
 "nbformat": 4,
 "nbformat_minor": 5
}
