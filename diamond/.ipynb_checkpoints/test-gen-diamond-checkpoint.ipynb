{
 "cells": [
  {
   "cell_type": "code",
   "execution_count": null,
   "id": "c06b72f7",
   "metadata": {},
   "outputs": [],
   "source": [
    "import numpy as np\n",
    "import matplotlib.pyplot as plt\n",
    "import torch\n",
    "import torch.nn as nn"
   ]
  },
  {
   "cell_type": "code",
   "execution_count": null,
   "id": "af74a516",
   "metadata": {},
   "outputs": [],
   "source": [
    "import ase\n",
    "from ase.io import read,write"
   ]
  },
  {
   "cell_type": "code",
   "execution_count": null,
   "id": "5a5faaab",
   "metadata": {},
   "outputs": [],
   "source": [
    "import cace\n",
    "from cace.representations.cace_representation import Cace"
   ]
  },
  {
   "cell_type": "code",
   "execution_count": null,
   "id": "7870cf7c",
   "metadata": {},
   "outputs": [],
   "source": [
    "def polynomial_function(xsqr, rcut, derivative = False, n_pow=2, prefactor = 1.):\n",
    "    if derivative:\n",
    "        return prefactor * n_pow * (1 - xsqr/rcut**2.)**(n_pow - 1) * (-1./rcut**2.)\n",
    "    else:\n",
    "        return prefactor * (1 - xsqr/rcut**2.)**n_pow"
   ]
  },
  {
   "cell_type": "code",
   "execution_count": null,
   "id": "fba8d953-9b72-4fc2-b1cc-dd8332192439",
   "metadata": {},
   "outputs": [],
   "source": [
    "def minimal_image_distance_triclinic(displacement, lattice_vectors):\n",
    "    inv_lattice = np.linalg.inv(lattice_vectors)\n",
    "    displacement -= np.round(np.dot(displacement, inv_lattice)) @ lattice_vectors\n",
    "    return displacement #, np.linalg.norm(displacement)"
   ]
  },
  {
   "cell_type": "code",
   "execution_count": null,
   "id": "b919fed3",
   "metadata": {},
   "outputs": [],
   "source": [
    "def compute_strain_tensor(old_cell, new_cell):\n",
    "    # Compute the deformation gradient tensor\n",
    "    F = np.dot(np.linalg.inv(old_cell), new_cell)\n",
    "    \n",
    "    # Compute the strain tensor components\n",
    "    delta = np.eye(3)\n",
    "    epsilon = 0.5 * (np.dot(F.T, F) - delta)\n",
    "    \n",
    "    return epsilon"
   ]
  },
  {
   "cell_type": "code",
   "execution_count": null,
   "id": "2186b772",
   "metadata": {},
   "outputs": [],
   "source": [
    "def compute_stress(strain_tensor, elastic_modulus, poisson_ratio):\n",
    "    # Calculate the compliance matrix\n",
    "    C = (elastic_modulus / ((1 + poisson_ratio) * (1 - 2 * poisson_ratio))) * np.array([[1 - poisson_ratio, poisson_ratio, poisson_ratio, 0, 0, 0],\n",
    "                                                                                         [poisson_ratio, 1 - poisson_ratio, poisson_ratio, 0, 0, 0],\n",
    "                                                                                         [poisson_ratio, poisson_ratio, 1 - poisson_ratio, 0, 0, 0],\n",
    "                                                                                         [0, 0, 0, (1 - 2 * poisson_ratio) / 2, 0, 0],\n",
    "                                                                                         [0, 0, 0, 0, (1 - 2 * poisson_ratio) / 2, 0],\n",
    "                                                                                         [0, 0, 0, 0, 0, (1 - 2 * poisson_ratio) / 2]])\n",
    "    \n",
    "    # Flatten the 3x3 strain tensor into a 1D array\n",
    "    strain_vector = np.array([strain_tensor[0, 0], strain_tensor[1, 1], strain_tensor[2, 2], \n",
    "                              2 * strain_tensor[1, 2], 2 * strain_tensor[0, 2], 2 * strain_tensor[0, 1]])\n",
    "    \n",
    "    # Calculate stress tensor\n",
    "    stress_vector = np.dot(C, strain_vector)\n",
    "    \n",
    "    # Reshape the stress vector into a 3x3 stress tensor\n",
    "    stress_tensor = np.array([[stress_vector[0], stress_vector[5], stress_vector[4]],\n",
    "                              [stress_vector[5], stress_vector[1], stress_vector[3]],\n",
    "                              [stress_vector[4], stress_vector[3], stress_vector[2]]])\n",
    "    \n",
    "    return stress_tensor\n",
    "\n",
    "# Example usage\n",
    "strain_tensor = np.array([[0.001, 0.0002, 0.0003],\n",
    "                          [0.0002, 0.002, 0.0004],\n",
    "                          [0.0003, 0.0004, 0.003]])  # Example strain tensor\n",
    "elastic_modulus = 1  # Example elastic modulus in Pa\n",
    "poisson_ratio = 0.3  # Example Poisson's ratio\n",
    "\n",
    "stress_tensor = compute_stress(strain_tensor, elastic_modulus, poisson_ratio)\n",
    "print(\"Stress Tensor:\")\n",
    "print(stress_tensor)\n"
   ]
  },
  {
   "cell_type": "code",
   "execution_count": null,
   "id": "3abde07b",
   "metadata": {},
   "outputs": [],
   "source": [
    "def compute_elastic_energy(stress_tensor, strain_tensor):\n",
    "    # Flatten the 3x3 stress and strain tensors into 1D arrays\n",
    "    stress_vector = stress_tensor.flatten()\n",
    "    strain_vector = strain_tensor.flatten()\n",
    "    \n",
    "    # Calculate the elastic energy\n",
    "    elastic_energy = 0.5 * np.dot(stress_vector, strain_vector)\n",
    "    \n",
    "    return elastic_energy"
   ]
  },
  {
   "cell_type": "code",
   "execution_count": null,
   "id": "981a6c37",
   "metadata": {},
   "outputs": [],
   "source": [
    "# Create an example Atoms object\n",
    "atoms = read('large-diamond.xyz')\n",
    "print(atoms)\n",
    "atoms.get_volume() / 72"
   ]
  },
  {
   "cell_type": "code",
   "execution_count": null,
   "id": "6fcd0def",
   "metadata": {},
   "outputs": [],
   "source": [
    "equil_frames = [read('large-diamond.xyz')]\n",
    "import copy\n",
    "augmented_frames = []\n",
    "\n",
    "cell_change_max_ratio = 0.1\n",
    "\n",
    "step_size = 0.05\n",
    "f_noise_level = 0 #0.01\n",
    "e_noise_level = 0 #0.01\n",
    "\n",
    "repulsive_rcut = 0.75\n",
    "\n",
    "for original_frames in equil_frames:\n",
    "    for cell_scale in np.linspace(-0.1, 0.1, 11):\n",
    "        ef = copy.deepcopy(original_frames)\n",
    "        old_cell = ef.get_cell()\n",
    "        cell_volume = np.linalg.det(old_cell)\n",
    "        approx_cell_length = cell_volume**(1./3.)\n",
    "        new_cell = old_cell * (1. + cell_scale) + (np.random.rand(3,3) - 0.5) * approx_cell_length * cell_change_max_ratio\n",
    "\n",
    "        elastic_strain = compute_strain_tensor(old_cell, new_cell)\n",
    "        elastic_stress = compute_stress(elastic_strain, elastic_modulus=1, poisson_ratio=0.3)\n",
    "        elastic_energy = compute_elastic_energy(elastic_stress, elastic_strain) * cell_volume\n",
    "        \n",
    "        # Scale the positions to maintain the relative coordinates\n",
    "        scaled_positions = ef.get_scaled_positions()\n",
    "        ef.set_cell(new_cell, scale_atoms=True)\n",
    "        ef.set_scaled_positions(scaled_positions)\n",
    "        \n",
    "        ef.info['ee'] = elastic_energy\n",
    "        ef.info['stress'] = elastic_stress\n",
    "        ef.set_array('forces', np.zeros(ef.positions.shape) )\n",
    "        \n",
    "        for step in [0, 1, 2, 3, 4, 6, 8, 10, 12, 16, 32]:\n",
    "            ef_1 = copy.deepcopy(ef)\n",
    "            d_pos = step * step_size * ( np.random.rand(*ef.positions.shape) - 0.5 )\n",
    "\n",
    "            d_pos = np.array([ minimal_image_distance_triclinic(d_now, ef_1.cell) for d_now in d_pos ])\n",
    "\n",
    "            positions = ef_1.get_positions() + d_pos\n",
    "\n",
    "            f_repulsive = np.zeros(ef_1.positions.shape)\n",
    "            i, j, S = ase.neighborlist.primitive_neighbor_list(\n",
    "                    quantities=\"ijS\",\n",
    "                    pbc=ef_1.pbc,\n",
    "                    cell=ef_1.cell,\n",
    "                    positions=positions,\n",
    "                    cutoff=repulsive_rcut,\n",
    "                    self_interaction=False,  \n",
    "                    use_scaled_positions=False,  # positions are not scaled positions\n",
    "                )\n",
    "\n",
    "            D = positions[j]-positions[i] + S.dot(ef_1.cell)\n",
    "\n",
    "            D_sqr = np.sum(D**2.,axis=1)\n",
    "            exp_D_l = polynomial_function(D_sqr, repulsive_rcut, derivative = True)\n",
    "            f_repulsive[i] += 2. * exp_D_l[:, None] * D \n",
    "\n",
    "            f_noise = f_noise_level * step**0.5 * ( np.random.rand(*ef_1.positions.shape) - 0.5 )\n",
    "\n",
    "            f = -1. * d_pos + f_noise\n",
    "\n",
    "            ef_1.positions += d_pos\n",
    "\n",
    "\n",
    "            ef_1.info['ee'] = 0.5 * np.sum(f**2.)\\\n",
    "                              + np.sum(polynomial_function(D_sqr, repulsive_rcut)) / 2. \\\n",
    "                              + e_noise_level * step**0.5 * (np.random.rand(1) - 0.5) \\\n",
    "                              + elastic_energy\n",
    "\n",
    "            f += f_repulsive\n",
    "            ef_1.set_array('forces', f)\n",
    "\n",
    "            augmented_frames.append(ef_1)\n",
    "write('diamond-augmented.xyz', augmented_frames)\n"
   ]
  },
  {
   "cell_type": "code",
   "execution_count": null,
   "id": "a746a51e",
   "metadata": {},
   "outputs": [],
   "source": [
    "collection = cace.tasks.get_dataset_from_xyz(train_path='diamond-augmented.xyz', \n",
    "                                 valid_fraction=0.1,\n",
    "                                 energy_key='ee',\n",
    "                                 forces_key='forces',\n",
    "                                 stress_key='stress'\n",
    "                                            )"
   ]
  },
  {
   "cell_type": "code",
   "execution_count": null,
   "id": "a3ee4ec5",
   "metadata": {},
   "outputs": [],
   "source": [
    "cutoff = 4.5\n",
    "batch_size = 2"
   ]
  },
  {
   "cell_type": "code",
   "execution_count": null,
   "id": "7bdca574",
   "metadata": {},
   "outputs": [],
   "source": [
    "from cace.tools import torch_geometric"
   ]
  },
  {
   "cell_type": "code",
   "execution_count": null,
   "id": "93fca691",
   "metadata": {},
   "outputs": [],
   "source": [
    "from cace.tools.torch_geometric import dataloader"
   ]
  },
  {
   "cell_type": "code",
   "execution_count": null,
   "id": "aca7b246",
   "metadata": {},
   "outputs": [],
   "source": [
    "train_loader = cace.tasks.load_data_loader(collection=collection,\n",
    "                              data_type='train',\n",
    "                              batch_size=batch_size,\n",
    "                              cutoff=cutoff)"
   ]
  },
  {
   "cell_type": "code",
   "execution_count": null,
   "id": "b676f59b",
   "metadata": {},
   "outputs": [],
   "source": [
    "valid_loader = cace.tasks.load_data_loader(collection=collection,\n",
    "                              data_type='valid',\n",
    "                              batch_size=20,\n",
    "                              cutoff=cutoff)"
   ]
  },
  {
   "cell_type": "raw",
   "id": "93e37639-e392-43aa-82af-7f9061feaaad",
   "metadata": {},
   "source": [
    "test_loader = cace.tasks.load_data_loader(collection=collection,\n",
    "                              data_type='test',\n",
    "                              batch_size=1000,\n",
    "                              cutoff=cutoff)"
   ]
  },
  {
   "cell_type": "code",
   "execution_count": null,
   "id": "7fc6163f",
   "metadata": {},
   "outputs": [],
   "source": [
    "device = cace.tools.init_device('cpu')"
   ]
  },
  {
   "cell_type": "code",
   "execution_count": null,
   "id": "e59cc4a4",
   "metadata": {},
   "outputs": [],
   "source": [
    "sampled_data = next(iter(valid_loader))"
   ]
  },
  {
   "cell_type": "code",
   "execution_count": null,
   "id": "bcb801f1",
   "metadata": {},
   "outputs": [],
   "source": [
    "sampled_data"
   ]
  },
  {
   "cell_type": "code",
   "execution_count": null,
   "id": "6eb2e901",
   "metadata": {},
   "outputs": [],
   "source": [
    "sampled_data = sampled_data.to(device)"
   ]
  },
  {
   "cell_type": "code",
   "execution_count": null,
   "id": "32e7c474",
   "metadata": {},
   "outputs": [],
   "source": [
    "from cace.modules import CosineCutoff, MollifierCutoff, PolynomialCutoff\n",
    "from cace.modules import BesselRBF, GaussianRBF, GaussianRBFCentered"
   ]
  },
  {
   "cell_type": "code",
   "execution_count": null,
   "id": "692c8a2f",
   "metadata": {},
   "outputs": [],
   "source": [
    "radial_basis = BesselRBF(cutoff=cutoff, n_rbf=6, trainable=True)\n",
    "cutoff_fn = PolynomialCutoff(cutoff=cutoff, p=2)"
   ]
  },
  {
   "cell_type": "code",
   "execution_count": null,
   "id": "19f97e9d",
   "metadata": {},
   "outputs": [],
   "source": [
    "cace_representation = Cace(\n",
    "    zs=[6], \n",
    "    n_atom_basis=1,\n",
    "    cutoff=cutoff,\n",
    "    cutoff_fn=cutoff_fn,\n",
    "    radial_basis=radial_basis,\n",
    "    n_radial_basis=8,\n",
    "    max_l=3,\n",
    "    max_nu=3,\n",
    "    num_message_passing=0,\n",
    "    type_message_passing=[\"Bchi\"],\n",
    "    args_message_passing={'Bchi': {'shared_channels': False, 'shared_l': False}},\n",
    "    device=device,\n",
    "    timeit=False\n",
    "           )"
   ]
  },
  {
   "cell_type": "code",
   "execution_count": null,
   "id": "4e54369d",
   "metadata": {},
   "outputs": [],
   "source": [
    "cace_representation.to(device)"
   ]
  },
  {
   "cell_type": "code",
   "execution_count": null,
   "id": "13195a04",
   "metadata": {},
   "outputs": [],
   "source": [
    "atomwise = cace.modules.atomwise.Atomwise(\n",
    "    n_layers=3,\n",
    "    n_hidden=[24,12],\n",
    "    output_key='CACE_energy',\n",
    "    descriptor_output_key='desc',\n",
    "    residual=False,\n",
    "    add_linear_nn=True)"
   ]
  },
  {
   "cell_type": "code",
   "execution_count": null,
   "id": "f70ecb36",
   "metadata": {},
   "outputs": [],
   "source": [
    "forces = cace.modules.forces.Forces(energy_key='CACE_energy',\n",
    "                                    forces_key='CACE_forces',\n",
    "                                   stress_key='CACE_stress',\n",
    "                                   calc_stress=True)"
   ]
  },
  {
   "cell_type": "code",
   "execution_count": null,
   "id": "3cea892b",
   "metadata": {},
   "outputs": [],
   "source": [
    "from cace.models.atomistic import NeuralNetworkPotential"
   ]
  },
  {
   "cell_type": "code",
   "execution_count": null,
   "id": "77dfbb5b",
   "metadata": {},
   "outputs": [],
   "source": [
    "preprocessor = cace.modules.Preprocess()"
   ]
  },
  {
   "cell_type": "code",
   "execution_count": null,
   "id": "09165246",
   "metadata": {},
   "outputs": [],
   "source": [
    "cace_nnp = NeuralNetworkPotential(\n",
    "    input_modules=[preprocessor],\n",
    "    representation=cace_representation,\n",
    "    output_modules=[atomwise, forces]\n",
    ")"
   ]
  },
  {
   "cell_type": "code",
   "execution_count": null,
   "id": "c5b53ac8",
   "metadata": {},
   "outputs": [],
   "source": [
    "cace_nnp.to(device)"
   ]
  },
  {
   "cell_type": "code",
   "execution_count": null,
   "id": "5bdc3e8a",
   "metadata": {},
   "outputs": [],
   "source": [
    "from cace.tasks import GetLoss"
   ]
  },
  {
   "cell_type": "code",
   "execution_count": null,
   "id": "bff2c3ec",
   "metadata": {},
   "outputs": [],
   "source": [
    "force_loss = GetLoss(\n",
    "    target_name='forces',\n",
    "    predict_name='CACE_forces',\n",
    "    loss_fn=torch.nn.MSELoss(),\n",
    "    loss_weight=10000\n",
    ")"
   ]
  },
  {
   "cell_type": "code",
   "execution_count": null,
   "id": "a1f1f9be",
   "metadata": {},
   "outputs": [],
   "source": [
    "stress_loss = GetLoss(\n",
    "    target_name='stress',\n",
    "    predict_name='CACE_stress',\n",
    "    loss_fn=torch.nn.MSELoss(),\n",
    "    loss_weight=10000\n",
    ")"
   ]
  },
  {
   "cell_type": "code",
   "execution_count": null,
   "id": "294f2243",
   "metadata": {},
   "outputs": [],
   "source": [
    "from cace.tools import Metrics"
   ]
  },
  {
   "cell_type": "code",
   "execution_count": null,
   "id": "ddc2c091",
   "metadata": {},
   "outputs": [],
   "source": [
    "e_metric = Metrics(\n",
    "    target_name='energy',\n",
    "    predict_name='CACE_energy',\n",
    "    name='e/at',\n",
    "    per_atom=True\n",
    ")"
   ]
  },
  {
   "cell_type": "code",
   "execution_count": null,
   "id": "ca630383",
   "metadata": {},
   "outputs": [],
   "source": [
    "f_metric = Metrics(\n",
    "    target_name='forces',\n",
    "    predict_name='CACE_forces',\n",
    "    name='f'\n",
    ")"
   ]
  },
  {
   "cell_type": "code",
   "execution_count": null,
   "id": "fac90c58",
   "metadata": {},
   "outputs": [],
   "source": [
    "s_metric = Metrics(\n",
    "    target_name='stress',\n",
    "    predict_name='CACE_stress',\n",
    "    name='s'\n",
    ")"
   ]
  },
  {
   "cell_type": "code",
   "execution_count": null,
   "id": "9ccfcda1",
   "metadata": {},
   "outputs": [],
   "source": [
    "from cace.tasks.train import TrainingTask"
   ]
  },
  {
   "cell_type": "code",
   "execution_count": null,
   "id": "642ab2be",
   "metadata": {},
   "outputs": [],
   "source": [
    "# Example usage\n",
    "\n",
    "optimizer_args = {'lr': 1e-2, 'amsgrad': True}\n",
    "scheduler_args = {'mode': 'min', 'factor': 0.8, 'patience': 10}\n",
    "    \n",
    "task = TrainingTask(\n",
    "    model=cace_nnp,\n",
    "    losses=[force_loss, stress_loss],\n",
    "    metrics=[f_metric, s_metric],\n",
    "    device=device,\n",
    "    optimizer_args=optimizer_args, \n",
    "    scheduler_cls=torch.optim.lr_scheduler.ReduceLROnPlateau, \n",
    "    scheduler_args=scheduler_args,\n",
    "    max_grad_norm=10,\n",
    "    ema=True,\n",
    "    ema_start=10,\n",
    "    warmup_steps=10,\n",
    ")\n"
   ]
  },
  {
   "cell_type": "code",
   "execution_count": null,
   "id": "39878ced",
   "metadata": {},
   "outputs": [],
   "source": [
    "task.fit(train_loader, valid_loader, epochs=400, screen_nan=False)"
   ]
  },
  {
   "cell_type": "code",
   "execution_count": null,
   "id": "9cee70f1",
   "metadata": {},
   "outputs": [],
   "source": []
  }
 ],
 "metadata": {
  "kernelspec": {
   "display_name": "Python 3 (ipykernel)",
   "language": "python",
   "name": "python3"
  },
  "language_info": {
   "codemirror_mode": {
    "name": "ipython",
    "version": 3
   },
   "file_extension": ".py",
   "mimetype": "text/x-python",
   "name": "python",
   "nbconvert_exporter": "python",
   "pygments_lexer": "ipython3",
   "version": "3.8.16"
  }
 },
 "nbformat": 4,
 "nbformat_minor": 5
}
