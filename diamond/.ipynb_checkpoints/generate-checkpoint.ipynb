{
 "cells": [
  {
   "cell_type": "code",
   "execution_count": null,
   "id": "69f355a6",
   "metadata": {},
   "outputs": [],
   "source": [
    "import numpy as np\n",
    "import matplotlib.pyplot as plt\n",
    "import torch\n",
    "import torch.nn as nn"
   ]
  },
  {
   "cell_type": "code",
   "execution_count": null,
   "id": "a235d3ee",
   "metadata": {},
   "outputs": [],
   "source": [
    "import cace\n",
    "from cace.representations.cace_representation import Cace"
   ]
  },
  {
   "cell_type": "code",
   "execution_count": null,
   "id": "43269282",
   "metadata": {},
   "outputs": [],
   "source": [
    "import numpy as np\n",
    "import ase\n",
    "from ase import Atoms\n",
    "from ase.optimize import FIRE\n",
    "from ase.constraints import ExpCellFilter\n",
    "\n",
    "from ase.visualize import view\n",
    "from ase.md import Langevin\n",
    "from ase import units\n",
    "import numpy as np\n",
    "import time\n",
    "from ase.io import read,write\n"
   ]
  },
  {
   "cell_type": "code",
   "execution_count": null,
   "id": "7487747f",
   "metadata": {},
   "outputs": [],
   "source": [
    "from cace.calculators import CACECalculator"
   ]
  },
  {
   "cell_type": "code",
   "execution_count": null,
   "id": "d740528f-f72f-41a7-a0d8-23b5f980c26e",
   "metadata": {},
   "outputs": [],
   "source": [
    "cace_nnp = torch.load('best_model.pth')"
   ]
  },
  {
   "cell_type": "code",
   "execution_count": null,
   "id": "e5b6ab3a-863e-4a79-b0e3-b9f90c48a551",
   "metadata": {},
   "outputs": [],
   "source": [
    "trainable_params = sum(p.numel() for p in cace_nnp.parameters() if p.requires_grad)\n",
    "print(f\"Number of trainable parameters: {trainable_params}\")"
   ]
  },
  {
   "cell_type": "code",
   "execution_count": null,
   "id": "d511ce40",
   "metadata": {},
   "outputs": [],
   "source": [
    "calculator = CACECalculator(model_path=cace_nnp, \n",
    "                            device='cpu', \n",
    "                            energy_key='CACE_energy', \n",
    "                            forces_key='CACE_forces',\n",
    "                            stress_key='CACE_stress',\n",
    "                           compute_stress=True)"
   ]
  },
  {
   "cell_type": "code",
   "execution_count": null,
   "id": "52f5c3ee",
   "metadata": {},
   "outputs": [],
   "source": [
    "min_distance = 0.7\n",
    "\n",
    "for v_atom in np.linspace(3.8,5.6,100): # 3.8\n",
    "    \n",
    "    print(\"molar_V: \", v_atom)\n",
    "    \n",
    "    for num_atoms in [2,4,6,8,12]:\n",
    "        # v=A^3/atom\n",
    "        box_size = (num_atoms * v_atom)**(1./3.) \n",
    "\n",
    "        for rr in range(8):\n",
    "            \n",
    "            print(\"No. atoms: \", num_atoms, \" R: \", rr)\n",
    "\n",
    "            positions = []\n",
    "            symbols = []\n",
    "\n",
    "            while len(positions) < num_atoms:\n",
    "                new_pos = np.random.rand(3) * (box_size - min_distance)\n",
    "                if all(np.linalg.norm(new_pos - p) >= min_distance for p in positions):\n",
    "                    positions.append(new_pos)\n",
    "                    symbols.append(\"C\")\n",
    "\n",
    "            old_cell = np.array([[box_size, 0, 0], [0, box_size, 0], [0, 0, box_size]])\n",
    "            old_v = box_size**3.\n",
    "            new_cell = old_cell + (np.random.rand(3,3) - 0.5) * box_size * 0.5\n",
    "            new_v = np.linalg.det(new_cell)\n",
    "            new_cell *= (old_v/new_v)**(1./3.)\n",
    "\n",
    "            atoms = Atoms(symbols, \n",
    "                          positions=positions, \n",
    "                          cell=old_cell, \n",
    "                          pbc=True)\n",
    "\n",
    "            # Scale the positions to maintain the relative coordinates\n",
    "            scaled_positions = atoms.get_scaled_positions()\n",
    "            atoms.set_cell(new_cell, scale_atoms=True)\n",
    "            atoms.set_scaled_positions(scaled_positions)\n",
    "\n",
    "            atoms.set_calculator(calculator)\n",
    "\n",
    "            atoms_c = ExpCellFilter(atoms, constant_volume=True)\n",
    "\n",
    "            # Perform geometry optimization\n",
    "            opt = FIRE(atoms_c, logfile=None, maxstep=0.01)\n",
    "                    \n",
    "            #opt.attach(write_frame_opt, interval=10)\n",
    "\n",
    "            run = opt.run(fmax=0.0005, steps=500)  # Adjust fmax for convergence criteria\n",
    "\n",
    "            if run:\n",
    "                atoms.info['energy_per_atom'] = atoms.get_potential_energy() / num_atoms\n",
    "                atoms.info['volume_per_atom'] = atoms.get_volume() / num_atoms\n",
    "                write('relaxation-final.xyz', atoms, append=True)"
   ]
  },
  {
   "cell_type": "code",
   "execution_count": null,
   "id": "43210665",
   "metadata": {},
   "outputs": [],
   "source": []
  }
 ],
 "metadata": {
  "kernelspec": {
   "display_name": "Python 3 (ipykernel)",
   "language": "python",
   "name": "python3"
  },
  "language_info": {
   "codemirror_mode": {
    "name": "ipython",
    "version": 3
   },
   "file_extension": ".py",
   "mimetype": "text/x-python",
   "name": "python",
   "nbconvert_exporter": "python",
   "pygments_lexer": "ipython3",
   "version": "3.8.16"
  }
 },
 "nbformat": 4,
 "nbformat_minor": 5
}
