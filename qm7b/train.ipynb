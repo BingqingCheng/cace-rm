{
 "cells": [
  {
   "cell_type": "code",
   "execution_count": null,
   "id": "c06b72f7",
   "metadata": {},
   "outputs": [],
   "source": [
    "import numpy as np\n",
    "import matplotlib.pyplot as plt\n",
    "import torch\n",
    "import torch.nn as nn"
   ]
  },
  {
   "cell_type": "code",
   "execution_count": null,
   "id": "0eaa54b6",
   "metadata": {},
   "outputs": [],
   "source": [
    "import ase"
   ]
  },
  {
   "cell_type": "code",
   "execution_count": null,
   "id": "66da7d58",
   "metadata": {},
   "outputs": [],
   "source": [
    "import sys\n",
    "sys.path.append('../')"
   ]
  },
  {
   "cell_type": "code",
   "execution_count": null,
   "id": "5a5faaab",
   "metadata": {},
   "outputs": [],
   "source": [
    "import cace\n",
    "from cace.representations.cace_representation import Cace"
   ]
  },
  {
   "cell_type": "code",
   "execution_count": null,
   "id": "108d024d",
   "metadata": {},
   "outputs": [],
   "source": [
    "def polynomial_function(xsqr, rcut, derivative = False, n_pow=2, prefactor = 1.):\n",
    "    if derivative:\n",
    "        return prefactor * n_pow * (1 - xsqr/rcut**2.)**(n_pow - 1) * (-1./rcut**2.)\n",
    "    else:\n",
    "        return prefactor * (1 - xsqr/rcut**2.)**n_pow"
   ]
  },
  {
   "cell_type": "code",
   "execution_count": null,
   "id": "d19c7385",
   "metadata": {},
   "outputs": [],
   "source": [
    "from ase.io import read,write\n",
    "equil_frames = read('../datasets/qm7b/qm7b.xyz', ':')\n",
    "#equil_frames = read('diamond.xyz',':')\n",
    "import copy\n",
    "augmented_frames = []\n",
    "\n",
    "step_size = 0.1\n",
    "f_noise_level = 0.01\n",
    "e_noise_level = 0.01\n",
    "repulsive_rcut = 0.7\n",
    "\n",
    "\n",
    "for ef in equil_frames:\n",
    "    #del ef.info['energy']\n",
    "    ef.info['ee'] = 0.0\n",
    "    ef.set_array('forces', np.zeros(ef.positions.shape) )\n",
    "    augmented_frames.append(ef)\n",
    "    for step in [1, 2, 3, 4, 6, 8, 10, 12, 16, 32]:\n",
    "        ef_1 = copy.deepcopy(ef)\n",
    "        d_pos = step * step_size * ( np.random.rand(*ef.positions.shape) - 0.5 )\n",
    "\n",
    "        positions = ef_1.get_positions() + d_pos\n",
    "\n",
    "        f_repulsive = np.zeros(ef_1.positions.shape)\n",
    "        i, j, S = ase.neighborlist.primitive_neighbor_list(\n",
    "                quantities=\"ijS\",\n",
    "                pbc=ef_1.pbc,\n",
    "                cell=ef_1.cell,\n",
    "                positions=positions,\n",
    "                cutoff=repulsive_rcut,\n",
    "                self_interaction=False,  \n",
    "                use_scaled_positions=False,  # positions are not scaled positions\n",
    "            )\n",
    "\n",
    "        D = positions[j]-positions[i] + S.dot(ef_1.cell)\n",
    "        \n",
    "        D_sqr = np.sum(D**2.,axis=1)\n",
    "        exp_D_l = polynomial_function(D_sqr, repulsive_rcut, derivative = True)\n",
    "        f_repulsive[i] += 2. * exp_D_l[:, None] * D \n",
    "\n",
    "        f_noise = f_noise_level * step**0.5 * ( np.random.rand(*ef_1.positions.shape) - 0.5 )\n",
    "        \n",
    "        f = -1. * d_pos + f_noise\n",
    "        \n",
    "        ef_1.positions += d_pos\n",
    "        \n",
    "        \n",
    "        ef_1.info['ee'] = 0.5 * np.sum(f**2.)\\\n",
    "                          + np.sum(polynomial_function(D_sqr, repulsive_rcut)) / 2. \\\n",
    "                          + e_noise_level * step**0.5 * (np.random.rand(1) - 0.5) \n",
    "\n",
    "        f += f_repulsive\n",
    "        ef_1.set_array('forces', f)\n",
    "        \n",
    "        augmented_frames.append(ef_1)\n",
    "write('qm7b-augmented.xyz', augmented_frames)"
   ]
  },
  {
   "cell_type": "code",
   "execution_count": null,
   "id": "a746a51e",
   "metadata": {},
   "outputs": [],
   "source": [
    "collection = cace.tasks.get_dataset_from_xyz(\n",
    "                                 train_path='qm7b-augmented.xyz',\n",
    "                                 valid_fraction=0.1,\n",
    "                                 test_path='../datasets/qm7b/qm7b.xyz',\n",
    "                                 energy_key='ae_pbe0', #'ee'\n",
    "                                 forces_key='forces',\n",
    "                                            )"
   ]
  },
  {
   "cell_type": "code",
   "execution_count": null,
   "id": "a3ee4ec5",
   "metadata": {},
   "outputs": [],
   "source": [
    "cutoff = 4.5\n",
    "batch_size = 20"
   ]
  },
  {
   "cell_type": "code",
   "execution_count": null,
   "id": "7bdca574",
   "metadata": {},
   "outputs": [],
   "source": [
    "from cace.tools import torch_geometric"
   ]
  },
  {
   "cell_type": "code",
   "execution_count": null,
   "id": "93fca691",
   "metadata": {},
   "outputs": [],
   "source": [
    "from cace.tools.torch_geometric import dataloader"
   ]
  },
  {
   "cell_type": "code",
   "execution_count": null,
   "id": "aca7b246",
   "metadata": {},
   "outputs": [],
   "source": [
    "train_loader = cace.tasks.load_data_loader(collection=collection,\n",
    "                              data_type='train',\n",
    "                              batch_size=batch_size,\n",
    "                              cutoff=cutoff)"
   ]
  },
  {
   "cell_type": "code",
   "execution_count": null,
   "id": "b676f59b",
   "metadata": {},
   "outputs": [],
   "source": [
    "valid_loader = cace.tasks.load_data_loader(collection=collection,\n",
    "                              data_type='valid',\n",
    "                              batch_size=100,\n",
    "                              cutoff=cutoff)"
   ]
  },
  {
   "cell_type": "code",
   "execution_count": null,
   "id": "bd786d25",
   "metadata": {},
   "outputs": [],
   "source": [
    "test_loader = cace.tasks.load_data_loader(collection=collection,\n",
    "                              data_type='test',\n",
    "                              batch_size=100,\n",
    "                              cutoff=cutoff)"
   ]
  },
  {
   "cell_type": "code",
   "execution_count": null,
   "id": "7fc6163f",
   "metadata": {},
   "outputs": [],
   "source": [
    "device = cace.tools.init_device('cpu')"
   ]
  },
  {
   "cell_type": "code",
   "execution_count": null,
   "id": "e59cc4a4",
   "metadata": {},
   "outputs": [],
   "source": [
    "sampled_data = next(iter(valid_loader))"
   ]
  },
  {
   "cell_type": "code",
   "execution_count": null,
   "id": "6eb2e901",
   "metadata": {},
   "outputs": [],
   "source": [
    "sampled_data = sampled_data.to(device)"
   ]
  },
  {
   "cell_type": "code",
   "execution_count": null,
   "id": "32e7c474",
   "metadata": {},
   "outputs": [],
   "source": [
    "from cace.modules import CosineCutoff, MollifierCutoff, PolynomialCutoff\n",
    "from cace.modules import BesselRBF, GaussianRBF, GaussianRBFCentered"
   ]
  },
  {
   "cell_type": "code",
   "execution_count": null,
   "id": "692c8a2f",
   "metadata": {},
   "outputs": [],
   "source": [
    "radial_basis = BesselRBF(cutoff=cutoff, n_rbf=6, trainable=True)\n",
    "cutoff_fn = PolynomialCutoff(cutoff=cutoff, p=2)"
   ]
  },
  {
   "cell_type": "code",
   "execution_count": null,
   "id": "19f97e9d",
   "metadata": {},
   "outputs": [],
   "source": [
    "cace_representation = Cace(\n",
    "    zs=[1, 6, 7, 8, 16, 17],\n",
    "    n_atom_basis=3,\n",
    "    cutoff=cutoff,\n",
    "    cutoff_fn=cutoff_fn,\n",
    "    radial_basis=radial_basis,\n",
    "    n_radial_basis=8,\n",
    "    max_l=3,\n",
    "    max_nu=3,\n",
    "    num_message_passing=0,\n",
    "    type_message_passing=[\"Bchi\"],\n",
    "    args_message_passing={'Bchi': {'shared_channels': False, 'shared_l': False}},\n",
    "    device=device,\n",
    "    timeit=False\n",
    "           )"
   ]
  },
  {
   "cell_type": "code",
   "execution_count": null,
   "id": "4e54369d",
   "metadata": {},
   "outputs": [],
   "source": [
    "cace_representation.to(device)"
   ]
  },
  {
   "cell_type": "code",
   "execution_count": null,
   "id": "d4626222",
   "metadata": {},
   "outputs": [],
   "source": [
    "%%time\n",
    "sampled_reps = cace_representation(sampled_data.to(device))"
   ]
  },
  {
   "cell_type": "code",
   "execution_count": null,
   "id": "13195a04",
   "metadata": {},
   "outputs": [],
   "source": [
    "atomwise = cace.modules.atomwise.Atomwise(\n",
    "    n_layers=3,\n",
    "    n_hidden=[24,12],\n",
    "    output_key='CACE_energy',\n",
    "    descriptor_output_key='desc',\n",
    "    residual=False,\n",
    "    add_linear_nn=True)"
   ]
  },
  {
   "cell_type": "code",
   "execution_count": null,
   "id": "f70ecb36",
   "metadata": {},
   "outputs": [],
   "source": [
    "forces = cace.modules.forces.Forces(energy_key='CACE_energy',\n",
    "                                    forces_key='CACE_forces')"
   ]
  },
  {
   "cell_type": "code",
   "execution_count": null,
   "id": "3cea892b",
   "metadata": {},
   "outputs": [],
   "source": [
    "from cace.models.atomistic import NeuralNetworkPotential"
   ]
  },
  {
   "cell_type": "code",
   "execution_count": null,
   "id": "09165246",
   "metadata": {},
   "outputs": [],
   "source": [
    "cace_nnp = NeuralNetworkPotential(\n",
    "    input_modules=None,\n",
    "    representation=cace_representation,\n",
    "    output_modules=[atomwise, forces]\n",
    ")"
   ]
  },
  {
   "cell_type": "code",
   "execution_count": null,
   "id": "c5b53ac8",
   "metadata": {},
   "outputs": [],
   "source": [
    "cace_nnp.to(device)"
   ]
  },
  {
   "cell_type": "code",
   "execution_count": null,
   "id": "5bdc3e8a",
   "metadata": {},
   "outputs": [],
   "source": [
    "from cace.tasks import GetLoss"
   ]
  },
  {
   "cell_type": "code",
   "execution_count": null,
   "id": "db9361e7",
   "metadata": {},
   "outputs": [],
   "source": [
    "force_loss = GetLoss(\n",
    "    target_name='forces',\n",
    "    predict_name='CACE_forces',\n",
    "    loss_fn=torch.nn.MSELoss(),\n",
    "    loss_weight=10000\n",
    ")"
   ]
  },
  {
   "cell_type": "code",
   "execution_count": null,
   "id": "294f2243",
   "metadata": {},
   "outputs": [],
   "source": [
    "from cace.tools import Metrics"
   ]
  },
  {
   "cell_type": "code",
   "execution_count": null,
   "id": "155eccd8",
   "metadata": {},
   "outputs": [],
   "source": [
    "f_metric = Metrics(\n",
    "    target_name='forces',\n",
    "    predict_name='CACE_forces',\n",
    "    name='f'\n",
    ")"
   ]
  },
  {
   "cell_type": "code",
   "execution_count": null,
   "id": "9ccfcda1",
   "metadata": {},
   "outputs": [],
   "source": [
    "from cace.tasks.train import TrainingTask"
   ]
  },
  {
   "cell_type": "code",
   "execution_count": null,
   "id": "642ab2be",
   "metadata": {},
   "outputs": [],
   "source": [
    "# Example usage\n",
    "\n",
    "optimizer_args = {'lr': 1e-2, 'amsgrad': True}\n",
    "scheduler_args = {'mode': 'min', 'factor': 0.8, 'patience': 10}\n",
    "    \n",
    "task = TrainingTask(\n",
    "    model=cace_nnp,\n",
    "    losses=[force_loss],\n",
    "    metrics=[f_metric],\n",
    "    device=device,\n",
    "    optimizer_args=optimizer_args, \n",
    "    scheduler_cls=torch.optim.lr_scheduler.ReduceLROnPlateau, \n",
    "    scheduler_args=scheduler_args,\n",
    "    max_grad_norm=10,\n",
    "    ema=True,\n",
    "    ema_start=10,\n",
    "    warmup_steps=10,\n",
    ")\n"
   ]
  },
  {
   "cell_type": "code",
   "execution_count": null,
   "id": "39878ced",
   "metadata": {},
   "outputs": [],
   "source": [
    "task.fit(train_loader, valid_loader, epochs=100, screen_nan=False)"
   ]
  },
  {
   "cell_type": "code",
   "execution_count": null,
   "id": "9cee70f1",
   "metadata": {},
   "outputs": [],
   "source": []
  }
 ],
 "metadata": {
  "kernelspec": {
   "display_name": "Python 3 (ipykernel)",
   "language": "python",
   "name": "python3"
  },
  "language_info": {
   "codemirror_mode": {
    "name": "ipython",
    "version": 3
   },
   "file_extension": ".py",
   "mimetype": "text/x-python",
   "name": "python",
   "nbconvert_exporter": "python",
   "pygments_lexer": "ipython3",
   "version": "3.8.16"
  }
 },
 "nbformat": 4,
 "nbformat_minor": 5
}
